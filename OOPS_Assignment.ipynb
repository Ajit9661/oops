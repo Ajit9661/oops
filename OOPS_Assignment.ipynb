{
  "nbformat": 4,
  "nbformat_minor": 0,
  "metadata": {
    "colab": {
      "private_outputs": true,
      "provenance": []
    },
    "kernelspec": {
      "name": "python3",
      "display_name": "Python 3"
    },
    "language_info": {
      "name": "python"
    }
  },
  "cells": [
    {
      "cell_type": "markdown",
      "source": [
        "#1. What are the five key concepts of object-Orienterd programming (oop)?"
      ],
      "metadata": {
        "id": "3NQ8VxRrV_ZO"
      }
    },
    {
      "cell_type": "markdown",
      "source": [
        "#Ans:- The five key concepts of Object-Oriented Programming (OOP) are:\n",
        "\n",
        "1. Encapsulation: Bundling data and methods that operate on that data within a single unit, called a class or object. This helps hide internal implementation details and protects data from external interference.\n",
        "\n",
        "2. Abstraction: Focusing on essential features and behaviors of an object while ignoring non-essential details. Abstraction helps simplify complex systems and improve modularity.\n",
        "\n",
        "3. Inheritance: Creating a new class based on an existing class, inheriting its properties and behavior. Inheritance facilitates code reuse and helps model hierarchical relationships between classes.\n",
        "\n",
        "4. Polymorphism: The ability of an object or method to take on multiple forms, depending on the context. Polymorphism enables more flexibility and generic code, making it easier to write programs that can work with different data types.\n",
        "\n",
        "5. Composition: Combining multiple objects or classes to form a new, more complex object or class. Composition helps model real-world relationships between objects and promotes modular, reusable code.\n",
        "\n",
        "These five key concepts work together to enable the creation of robust, maintainable, and scalable software systems using Object-Oriented Programming.\n",
        "\n",
        "Would you like me to provide examples or further explanations for any of these concepts?"
      ],
      "metadata": {
        "id": "Fv2WFbLlWeev"
      }
    },
    {
      "cell_type": "markdown",
      "source": [
        "#2. write a python class for a 'car' with attributes for'make', 'modal', and 'year'.include a method to display the car's information."
      ],
      "metadata": {
        "id": "lv_8dmX8WiTF"
      }
    },
    {
      "cell_type": "markdown",
      "source": [
        "#Ans:- Here's a Python class for a 'Car' with attributes for 'make', 'model', and 'year', along with a method to display the car's information:\n",
        "\n",
        "\n",
        "In this example:\n",
        "\n",
        "- The __init__ method initializes the make, model, and year attributes when a new Car object is created.\n",
        "- The display_info method prints out the car's information in a formatted way.\n",
        "- We create an instance of the Car class called my_car and pass in the make, model, and year values.\n",
        "- Finally, we call the display_info method on my_car to print out its information.\n"
      ],
      "metadata": {
        "id": "54JlsBuMXEdW"
      }
    },
    {
      "cell_type": "code",
      "source": [
        "class Car:\n",
        "    def __init__(self, make, model, year):\n",
        "        self.make = make\n",
        "        self.model = model\n",
        "        self.year = year\n",
        "\n",
        "    def display_info(self):\n",
        "        print(f\"Make: {self.make}\")\n",
        "        print(f\"Model: {self.model}\")\n",
        "        print(f\"Year: {self.year}\")"
      ],
      "metadata": {
        "id": "Abkq_hylWgUQ"
      },
      "execution_count": null,
      "outputs": []
    },
    {
      "cell_type": "code",
      "source": [
        "# Create an instance of the Car class\n",
        "my_car = Car(\"Toyota\", \"Camry\", 2022)\n",
        "\n",
        "# Display the car's information\n",
        "my_car.display_info()"
      ],
      "metadata": {
        "id": "l86QH3bzXi1a"
      },
      "execution_count": null,
      "outputs": []
    },
    {
      "cell_type": "markdown",
      "source": [
        "#3. Explain the difference between instance methods and class menthods.provide an example of each."
      ],
      "metadata": {
        "id": "wBRevvXaXs1P"
      }
    },
    {
      "cell_type": "markdown",
      "source": [
        "#Ans:- In Python, instance methods and class methods are two types of methods that can be defined in a class.\n",
        "\n",
        "Instance Methods:\n",
        "\n",
        "Instance methods are methods that belong to an instance of a class. They operate on the instance's data and are used to perform actions that are specific to that instance.\n",
        "\n",
        "- Characteristics:\n",
        "    - Bound to an instance of the class.\n",
        "    - Can access and modify the instance's attributes.\n",
        "    - Can call other instance methods.\n",
        "\n"
      ],
      "metadata": {
        "id": "cpuPSES0ZaV4"
      }
    },
    {
      "cell_type": "code",
      "source": [
        "class Car:\n",
        "    def __init__(self, make, model):\n",
        "        self.make = make\n",
        "        self.model = model\n",
        "\n",
        "    def honk(self):\n",
        "        print(\"Honk!\")"
      ],
      "metadata": {
        "id": "FUKiz3TLXrWp"
      },
      "execution_count": null,
      "outputs": []
    },
    {
      "cell_type": "code",
      "source": [
        "my_car = Car(\"Toyota\", \"Camry\")\n",
        "my_car.honk()"
      ],
      "metadata": {
        "id": "hLI3iIEHZibZ"
      },
      "execution_count": null,
      "outputs": []
    },
    {
      "cell_type": "markdown",
      "source": [
        "Class Methods:\n",
        "\n",
        "Class methods are methods that belong to a class itself, rather than an instance of the class. They operate on the class's data and are used to perform actions that are related to the class as a whole.\n",
        "\n",
        "- Characteristics:\n",
        "    - Bound to the class itself.\n",
        "    - Can access and modify the class's attributes.\n",
        "    - Can call other class methods.\n"
      ],
      "metadata": {
        "id": "wJS7vVBMZu6e"
      }
    },
    {
      "cell_type": "code",
      "source": [
        "class Car:\n",
        "    num_cars = 0\n",
        "\n",
        "    def __init__(self, make, model):\n",
        "        self.make = make\n",
        "        self.model = model\n",
        "        Car.num_cars += 1\n",
        "\n",
        "    @classmethod\n",
        "    def get_num_cars(cls):\n",
        "        return cls.num_cars"
      ],
      "metadata": {
        "id": "MCo0U-ItZmHq"
      },
      "execution_count": null,
      "outputs": []
    },
    {
      "cell_type": "code",
      "source": [
        "my_car1 = Car(\"Toyota\", \"Camry\")\n",
        "my_car2 = Car(\"Honda\", \"Civic\")\n",
        "\n",
        "print(Car.get_num_cars())"
      ],
      "metadata": {
        "id": "sruWaQSnZz0h"
      },
      "execution_count": null,
      "outputs": []
    },
    {
      "cell_type": "markdown",
      "source": [
        "#4. How dose python implement method overloading? give an example."
      ],
      "metadata": {
        "id": "9VuNTKtoZ6t3"
      }
    },
    {
      "cell_type": "markdown",
      "source": [
        "#Ans:- Python does not directly support method overloading in the classical sense, unlike languages such as Java or C++. However, Python provides several ways to achieve similar behavior.\n",
        "\n",
        "One common approach is to use optional arguments with default values. Here's an example:\n",
        "\n"
      ],
      "metadata": {
        "id": "0TMyXDAYakBm"
      }
    },
    {
      "cell_type": "code",
      "source": [
        "class Calculator:\n",
        "    def calculate(self, *args):\n",
        "        if len(args) == 1:\n",
        "            # Calculate square of a number\n",
        "            return args[0] ** 2\n",
        "        elif len(args) == 2:\n",
        "            # Calculate sum of two numbers\n",
        "            return args[0] + args[1]\n",
        "        else:\n",
        "            raise ValueError(\"Invalid number of arguments\")"
      ],
      "metadata": {
        "id": "K1PzBr8aZ4GQ"
      },
      "execution_count": null,
      "outputs": []
    },
    {
      "cell_type": "code",
      "source": [
        "calculator = Calculator()\n",
        "print(calculator.calculate(5))\n",
        "print(calculator.calculate(5, 3))"
      ],
      "metadata": {
        "id": "o7B6DN5_ayLh"
      },
      "execution_count": null,
      "outputs": []
    },
    {
      "cell_type": "markdown",
      "source": [
        "In this example, the calculate method can take either one or two arguments, and performs different calculations based on the number of arguments provided.\n",
        "\n",
        "Another approach is to use the **kwargs syntax to accept arbitrary keyword arguments, and then check the presence and values of specific arguments to determine the behavior. Here's an example:\n",
        "\n"
      ],
      "metadata": {
        "id": "dkSsveA6a_lH"
      }
    },
    {
      "cell_type": "code",
      "source": [
        "class Person:\n",
        "    def greet(self, **kwargs):\n",
        "        if 'formal' in kwargs and kwargs['formal']:\n",
        "            print(f\"Good day, Mr./Ms. {kwargs.get('name')}\")\n",
        "        else:\n",
        "            print(f\"Hello, {kwargs.get('name')}!\")"
      ],
      "metadata": {
        "id": "TbsENkambA4A"
      },
      "execution_count": null,
      "outputs": []
    },
    {
      "cell_type": "code",
      "source": [
        "person = Person()\n",
        "person.greet(name=\"John\")\n",
        "person.greet(name=\"Jane\", formal=True)"
      ],
      "metadata": {
        "id": "Q7hT0JCrbGXh"
      },
      "execution_count": null,
      "outputs": []
    },
    {
      "cell_type": "markdown",
      "source": [
        "#5. What are the three typeof access modifiers in python? how are they donoted?"
      ],
      "metadata": {
        "id": "YQQrBaNQbNEe"
      }
    },
    {
      "cell_type": "markdown",
      "source": [
        "#Ans:- 1. Public: Public members are accessible from anywhere in the program. They are denoted by no prefix (i.e., no underscore).\n",
        "\n",
        "2. Protected: Protected members are intended to be used within the class itself and by its subclasses. They are denoted by a single underscore prefix (e.g., _variable).\n",
        "\n",
        "3. Private: Private members are intended to be used only within the class itself. They are denoted by a double underscore prefix (e.g., __variable). Note that Python's private access modifier is not strictly enforced and is more of a convention.\n",
        "\n"
      ],
      "metadata": {
        "id": "h643H8P8cCln"
      }
    },
    {
      "cell_type": "code",
      "source": [
        "class MyClass:\n",
        "    def __init__(self):\n",
        "        self.public_var = 10  # Public variable\n",
        "        self._protected_var = 20  # Protected variable\n",
        "        self.__private_var = 30  # Private variable\n",
        "\n",
        "    def public_method(self):\n",
        "        return self.public_var\n",
        "\n",
        "    def _protected_method(self):\n",
        "        return self._protected_var\n",
        "\n",
        "    def __private_method(self):\n",
        "        return self.__private_var\n"
      ],
      "metadata": {
        "id": "XqYSiprCbwTp"
      },
      "execution_count": null,
      "outputs": []
    },
    {
      "cell_type": "code",
      "source": [
        "obj = MyClass()\n",
        "print(obj.public_var)  # Accessing public variable\n",
        "print(obj.public_method())  # Accessing public method"
      ],
      "metadata": {
        "id": "PBwFAhbScaN5"
      },
      "execution_count": null,
      "outputs": []
    },
    {
      "cell_type": "code",
      "source": [
        "# Accessing protected variable and method (not recommended)\n",
        "print(obj._protected_var)\n",
        "print(obj._protected_method())"
      ],
      "metadata": {
        "id": "iXTsKM9pcenR"
      },
      "execution_count": null,
      "outputs": []
    },
    {
      "cell_type": "code",
      "source": [
        "# Trying to access private variable and method directly will raise an AttributeError\n",
        "try:\n",
        "    print(obj.__private_var)\n",
        "    print(obj.__private_method())\n",
        "except AttributeError as e:\n",
        "    print(e)"
      ],
      "metadata": {
        "id": "mmQeG3b7cieC"
      },
      "execution_count": null,
      "outputs": []
    },
    {
      "cell_type": "code",
      "source": [
        "# However, private variables and methods can be accessed using name mangling\n",
        "print(obj._MyClass__private_var)\n",
        "print(obj._MyClass__private_method())"
      ],
      "metadata": {
        "id": "N6OGjScecsMJ"
      },
      "execution_count": null,
      "outputs": []
    },
    {
      "cell_type": "markdown",
      "source": [
        "#6. Describe the five type of inheritance in python? provide a simple example of multipal inheritance."
      ],
      "metadata": {
        "id": "UoJullTXcwqH"
      }
    },
    {
      "cell_type": "markdown",
      "source": [
        "# Ans:- 1. Single Inheritance: A child class inherits from a single parent class.\n",
        "\n",
        "2. Multiple Inheritance: A child class inherits from multiple parent classes.\n",
        "\n",
        "3. Multilevel Inheritance: A child class inherits from a parent class, which itself inherits from another parent class.\n",
        "\n",
        "4. Hierarchical Inheritance: A parent class is inherited by multiple child classes.\n",
        "\n",
        "5. Hybrid Inheritance: A combination of multiple inheritance types.\n",
        "\n"
      ],
      "metadata": {
        "id": "-8-YwV4Od1e3"
      }
    },
    {
      "cell_type": "code",
      "source": [
        "class Animal:\n",
        "    def eat(self):\n",
        "        print(\"Eating...\")\n",
        "\n",
        "class Mammal:\n",
        "    def walk(self):\n",
        "        print(\"Walking...\")\n",
        "\n",
        "class Dog(Animal, Mammal):\n",
        "    def bark(self):\n",
        "        print(\"Barking...\")"
      ],
      "metadata": {
        "id": "LFV8jlfpcvho"
      },
      "execution_count": null,
      "outputs": []
    },
    {
      "cell_type": "code",
      "source": [
        "my_dog = Dog()\n",
        "my_dog.eat()\n",
        "my_dog.walk()\n",
        "my_dog.bark()"
      ],
      "metadata": {
        "id": "y_AaHvtMd8Uq"
      },
      "execution_count": null,
      "outputs": []
    },
    {
      "cell_type": "markdown",
      "source": [
        "# 7. what is the method resulation order (MRO) in python? how can you retrieve it programmatically?"
      ],
      "metadata": {
        "id": "J_P-TO6QeF1f"
      }
    },
    {
      "cell_type": "markdown",
      "source": [
        "#Ans:- The Method Resolution Order (MRO) in Python is the order in which Python searches for a method or attribute in a class and its parent classes. It's used to resolve method and attribute names in multiple inheritance scenarios.\n",
        "\n",
        "Python's MRO uses the C3 Linearization algorithm to resolve the order of method and attribute lookup. The algorithm works by:\n",
        "\n",
        "1. Starting with the current class.\n",
        "2. Adding its parent classes in the order they're listed in the class definition.\n",
        "3. Recursively adding the parent classes of each parent class.\n",
        "4. Removing any duplicate classes.\n"
      ],
      "metadata": {
        "id": "qW8C6btVeskn"
      }
    },
    {
      "cell_type": "code",
      "source": [
        "class Animal:\n",
        "    pass\n",
        "\n",
        "class Mammal(Animal):\n",
        "    pass\n",
        "\n",
        "class Dog(Mammal):\n",
        "    pass\n",
        "\n",
        "print(Dog.mro())"
      ],
      "metadata": {
        "id": "SMKon5AJeDea"
      },
      "execution_count": null,
      "outputs": []
    },
    {
      "cell_type": "markdown",
      "source": [
        "#8. Creat an abstract base class 'shope' with an abstract method 'area()'. thencreate two subclasses 'circle' and 'rectengle' that implement the 'area()' method."
      ],
      "metadata": {
        "id": "sRJVUHf0e2bP"
      }
    },
    {
      "cell_type": "markdown",
      "source": [
        "#Ans:- Here's an example implementation using Python's abc module for abstract base classes:\n",
        "\n",
        "\n",
        "from abc import ABC, abstractmethod\n",
        "import math\n"
      ],
      "metadata": {
        "id": "sIzD8ZISf323"
      }
    },
    {
      "cell_type": "code",
      "source": [
        "class Shape:\n",
        "    pass  # Base class, could have common methods if needed"
      ],
      "metadata": {
        "id": "J1gbwEg_ioXZ"
      },
      "execution_count": null,
      "outputs": []
    },
    {
      "cell_type": "code",
      "source": [
        "from abc import abstractmethod\n",
        "class Shape:\n",
        "  @abstractmethod\n",
        "  def area(self):\n",
        "        pass\n"
      ],
      "metadata": {
        "id": "Ps_vE-5xhfrw"
      },
      "execution_count": null,
      "outputs": []
    },
    {
      "cell_type": "code",
      "source": [
        "class Circle(Shape):\n",
        "    def __init__(self, radius):\n",
        "        self.radius = radius\n"
      ],
      "metadata": {
        "id": "ac3M8Yc2jAAT"
      },
      "execution_count": null,
      "outputs": []
    },
    {
      "cell_type": "code",
      "source": [
        "def area(self):\n",
        "        return math.pi * (self.radius ** 2)  # Added return statement"
      ],
      "metadata": {
        "id": "SaXZkIIEjDsA"
      },
      "execution_count": null,
      "outputs": []
    },
    {
      "cell_type": "code",
      "source": [
        "class Rectangle(Shape):\n",
        "    def __init__(self, width, height):\n",
        "        self.width = width\n",
        "        self.height = height"
      ],
      "metadata": {
        "id": "AwAgmEOujHZQ"
      },
      "execution_count": null,
      "outputs": []
    },
    {
      "cell_type": "code",
      "source": [
        "def area(self):\n",
        "        return self.width * self.height"
      ],
      "metadata": {
        "id": "11vs7FiJjTji"
      },
      "execution_count": null,
      "outputs": []
    },
    {
      "cell_type": "code",
      "source": [
        "# Create instances of Circle and Rectangle\n",
        "circle = Circle(5)\n",
        "rectangle = Rectangle(4, 6)"
      ],
      "metadata": {
        "id": "0NKGL2PojWKg"
      },
      "execution_count": null,
      "outputs": []
    },
    {
      "cell_type": "code",
      "source": [
        "# Calculate and print areas\n",
        "print(f\"circle area: {circle .area()}\")\n",
        "print(f\"Rectangle area: {rectangle.area()}\")"
      ],
      "metadata": {
        "id": "LKwoy2rTjZ6S"
      },
      "execution_count": null,
      "outputs": []
    },
    {
      "cell_type": "markdown",
      "source": [
        "#9. Demonstrate polymorphism by creating a functionthat can work with different shape objects to calculate and print their areas."
      ],
      "metadata": {
        "id": "z2F3_2epl6pR"
      }
    },
    {
      "cell_type": "markdown",
      "source": [
        "# Ans:- Here's an example that demonstrates polymorphism by creating a function that works with different shape objects:\n",
        "\n",
        "\n",
        "from abc import ABC, abstractmethod\n",
        "import math\n"
      ],
      "metadata": {
        "id": "YPZse5IanC6R"
      }
    },
    {
      "cell_type": "code",
      "source": [
        "class Circle(Shape):\n",
        "    def __init__(self, radius):\n",
        "        self.radius = radius"
      ],
      "metadata": {
        "id": "L_2KczCOj_fJ"
      },
      "execution_count": null,
      "outputs": []
    },
    {
      "cell_type": "code",
      "source": [
        "def area(self):\n",
        "        return math.pi * (self.radius ** 2)"
      ],
      "metadata": {
        "id": "_Cz-YL6pnNtD"
      },
      "execution_count": null,
      "outputs": []
    },
    {
      "cell_type": "code",
      "source": [
        "class Rectangle(Shape):\n",
        "    def __init__(self, width, height):\n",
        "        self.width = width\n",
        "        self.height = height"
      ],
      "metadata": {
        "id": "5TaxKOPanZGD"
      },
      "execution_count": null,
      "outputs": []
    },
    {
      "cell_type": "code",
      "source": [
        " def area(self):\n",
        "        return self.width * self.height"
      ],
      "metadata": {
        "id": "kIsLqRmancJC"
      },
      "execution_count": null,
      "outputs": []
    },
    {
      "cell_type": "code",
      "source": [
        "class Triangle(Shape):\n",
        "    def __init__(self, base, height):\n",
        "        self.base = base\n",
        "        self.height = height"
      ],
      "metadata": {
        "id": "0fJi03yqngKZ"
      },
      "execution_count": null,
      "outputs": []
    },
    {
      "cell_type": "code",
      "source": [
        "def area(self):\n",
        "        return 0.5 * self.base * self.height"
      ],
      "metadata": {
        "id": "yP-fPm8fnjxa"
      },
      "execution_count": null,
      "outputs": []
    },
    {
      "cell_type": "code",
      "source": [
        "def calculate_and_print_area(shape: Shape):\n",
        "    print(f\"Area of {type(shape).__name__}: {shape.area():.2f}\")"
      ],
      "metadata": {
        "id": "hjwnH5qCnoWa"
      },
      "execution_count": null,
      "outputs": []
    },
    {
      "cell_type": "code",
      "source": [
        "# Create shape objects\n",
        "circle = Circle(5)\n",
        "rectangle = Rectangle(4, 6)\n",
        "triangle = Triangle(3, 4)"
      ],
      "metadata": {
        "id": "aG6a77BYns36"
      },
      "execution_count": null,
      "outputs": []
    },
    {
      "cell_type": "code",
      "source": [
        "# Calculate and print areas using polymorphism\n",
        "calculate_and_print_area(circle)\n",
        "calculate_and_print_area(rectangle)\n",
        "calculate_and_print_area(triangle)"
      ],
      "metadata": {
        "id": "twdQbeQJnzOJ"
      },
      "execution_count": null,
      "outputs": []
    },
    {
      "cell_type": "markdown",
      "source": [
        "#10.Implement encapsulation in a 'Bankaccount'class with private attributes for 'balance' and 'account_number'. include methods for deposit, withdrawal, and balance inquiry."
      ],
      "metadata": {
        "id": "h3pqzwtUpV6r"
      }
    },
    {
      "cell_type": "markdown",
      "source": [
        "#Ans:- Here's an example implementation of encapsulation in a BankAccount class with private attributes for balance and account_number:\n"
      ],
      "metadata": {
        "id": "LF7RjwHHqbnQ"
      }
    },
    {
      "cell_type": "code",
      "source": [
        "class BankAccount:\n",
        "    def __init__(self, account_number, initial_balance):\n",
        "        self.__account_number = account_number\n",
        "        self.__balance = initial_balance\n",
        "\n",
        "def deposit(self, amount):\n",
        "        if amount > 0:\n",
        "            self.__balance += amount\n",
        "            print(f\"Deposited ${amount:.2f}. New balance: ${self.__balance:.2f}\")\n",
        "        else:\n",
        "            print(\"Invalid deposit amount.\")"
      ],
      "metadata": {
        "id": "Rzy6y46Qofwn"
      },
      "execution_count": null,
      "outputs": []
    },
    {
      "cell_type": "code",
      "source": [
        "def withdraw(self, amount):\n",
        "        if 0 < amount <= self.__balance:\n",
        "            self.__balance -= amount\n",
        "            print(f\"Withdrew ${amount:.2f}. New balance: ${self.__balance:.2f}\")\n",
        "        elif amount <= 0:\n",
        "            print(\"Invalid withdrawal amount.\")\n",
        "        else:\n",
        "            print(\"Insufficient funds.\")"
      ],
      "metadata": {
        "id": "rO1I23erqk0S"
      },
      "execution_count": null,
      "outputs": []
    },
    {
      "cell_type": "code",
      "source": [
        " def get_balance(self):\n",
        "        return self.__balance"
      ],
      "metadata": {
        "id": "mgewzyQ6q7tC"
      },
      "execution_count": null,
      "outputs": []
    },
    {
      "cell_type": "code",
      "source": [
        "    def get_account_number(self):\n",
        "        return self.__account_number"
      ],
      "metadata": {
        "id": "1RyTlI7ks0f-"
      },
      "execution_count": null,
      "outputs": []
    },
    {
      "cell_type": "code",
      "source": [
        "# Create a bank account object\n",
        "account = BankAccount(\"1234567890\", 1000.0)\n",
        "\n",
        "# Perform transactions\n",
        "account.deposit(500.0)\n",
        "account.withdraw(200.0)\n",
        "\n",
        "# Check balance and account number\n",
        "print(f\"Account Number: {account.get_account_number()}\")\n",
        "print(f\"Current Balance: ${account.get_balance():.2f}\")"
      ],
      "metadata": {
        "id": "1zgzLmqms4ai"
      },
      "execution_count": null,
      "outputs": []
    },
    {
      "cell_type": "markdown",
      "source": [
        "#11. write a class that overrides the'__str__'and'__add__'magic methods. What will these methodes allow you to do?"
      ],
      "metadata": {
        "id": "IM-yRrPYtkHf"
      }
    },
    {
      "cell_type": "markdown",
      "source": [
        "# Ans:- Here's an example of a Vector class that overrides the __str__ and __add__ magic methods:\n"
      ],
      "metadata": {
        "id": "yV9jbN2MuUzr"
      }
    },
    {
      "cell_type": "code",
      "source": [
        "class Vector:\n",
        "    def __init__(self, x, y):\n",
        "        self.x = x\n",
        "        self.y = y\n",
        "\n",
        "    def __str__(self):\n",
        "        return f\"Vector({self.x}, {self.y})\"\n",
        "\n",
        "    def __add__(self, other):\n",
        "        if isinstance(other, Vector):\n",
        "            return Vector(self.x + other.x, self.y + other.y)\n",
        "        else:\n",
        "            raise TypeError(\"Unsupported operand type for +\")"
      ],
      "metadata": {
        "id": "1KsqsllYs_ui"
      },
      "execution_count": null,
      "outputs": []
    },
    {
      "cell_type": "code",
      "source": [
        "# Create vector objects\n",
        "v1 = Vector(2, 3)\n",
        "v2 = Vector(4, 5)"
      ],
      "metadata": {
        "id": "yrk1iqW-ue-6"
      },
      "execution_count": null,
      "outputs": []
    },
    {
      "cell_type": "code",
      "source": [
        "# Use the overridden __str__ method\n",
        "print(v1)\n",
        "print(v2)"
      ],
      "metadata": {
        "id": "gWHvlqhyuk-i"
      },
      "execution_count": null,
      "outputs": []
    },
    {
      "cell_type": "code",
      "source": [
        "\n",
        "# Use the overridden __add__ method\n",
        "v3 = v1 + v2\n",
        "print(v3)"
      ],
      "metadata": {
        "id": "M1oF2TaCuqHi"
      },
      "execution_count": null,
      "outputs": []
    },
    {
      "cell_type": "markdown",
      "source": [
        "#12.Creat a decorator that measures and prints the execution time of a function."
      ],
      "metadata": {
        "id": "n3WqBuifuzZ5"
      }
    },
    {
      "cell_type": "markdown",
      "source": [
        "#Ans:- Here's an example implementation of a decorator that measures and prints the execution time of a function:\n",
        "\n",
        "import time\n",
        "from functools import wraps\n"
      ],
      "metadata": {
        "id": "tQczdwXZveh5"
      }
    },
    {
      "cell_type": "code",
      "source": [
        "def timer_decorator(func):\n",
        "    @wraps(func)\n",
        "    def wrapper(*args, **kwargs):\n",
        "        start_time = time.time()\n",
        "        result = func(*args, **kwargs)\n",
        "        end_time = time.time()\n",
        "        execution_time = end_time - start_time\n",
        "        print(f\"Function '{func.__name__}' executed in {execution_time:.4f} seconds.\")\n",
        "        return result\n",
        "    return wrapper"
      ],
      "metadata": {
        "id": "VQXBk3G3utpC"
      },
      "execution_count": null,
      "outputs": []
    },
    {
      "cell_type": "markdown",
      "source": [
        "#13. Explain the concept of the Diamond problem in multiple inheritance. how does python resolve it?"
      ],
      "metadata": {
        "id": "DUhdAsaJwqQx"
      }
    },
    {
      "cell_type": "markdown",
      "source": [
        "# Ans:- The Diamond Problem is a classic issue that arises in multiple inheritance, where a class inherits from two or more classes that have a common base class. This creates a diamond-shaped inheritance graph, which can lead to ambiguity and conflicts.\n",
        "\n",
        "Here's an example of the Diamond Problem in Python:\n",
        "\n",
        "\n",
        "  A\n",
        " / \\\n",
        "B   C\n",
        " \\ /\n",
        "  D\n",
        "\n",
        "\n",
        "In this example, class D inherits from both classes B and C, which in turn inherit from class A. This creates a diamond-shaped inheritance graph.\n",
        "\n",
        "The problem arises when classes B and C override a method or attribute from class A, and class D tries to access that method or attribute. Which version of the method or attribute should class D use? The one from class B, class C, or class A?\n",
        "\n",
        "Python resolves the Diamond Problem using a technique called Method Resolution Order (MRO). The MRO is an algorithm that determines the order in which Python searches for a method or attribute in a class's inheritance graph.\n",
        "\n",
        "In Python 3.x, the MRO uses the C3 Linearization algorithm, which is a variation of the C3 algorithm. The C3 Linearization algorithm works as follows:\n",
        "\n",
        "1. List all the classes in the inheritance graph, in the order they are defined.\n",
        "2. Remove any duplicate classes from the list.\n",
        "3. For each class in the list, add its parent classes to the list, if they are not already present.\n",
        "4. Repeat step 3 until no new classes are added to the list.\n",
        "5. The resulting list is the MRO.\n",
        "\n",
        "Using the MRO, Python can resolve the Diamond Problem by searching for a method or attribute in the following order:\n",
        "\n",
        "1. The class itself (D).\n",
        "2. The first parent class (B).\n",
        "3. The second parent class (C).\n",
        "4. The common base class (A).\n",
        "5. The object class (object).\n",
        "\n",
        "By following this order, Python can ensure that the correct method or attribute is used, even in the presence of multiple inheritance."
      ],
      "metadata": {
        "id": "5DSeFOl_xLiD"
      }
    },
    {
      "cell_type": "markdown",
      "source": [
        "#14. write a class method that keeps track of the number of instances created from a class."
      ],
      "metadata": {
        "id": "lkZfVM9jxPux"
      }
    },
    {
      "cell_type": "markdown",
      "source": [
        "# Ans:- Here's an example implementation of a class method that keeps track of the number of instances created from a class:\n"
      ],
      "metadata": {
        "id": "IZKksk--xr3h"
      }
    },
    {
      "cell_type": "code",
      "source": [
        "class MyClass:\n",
        "    num_instances = 0  # Class attribute to store the instance count\n",
        "\n",
        "    def __init__(self):\n",
        "        MyClass.num_instances += 1  # Increment the instance count in the constructor\n",
        "\n",
        "    @classmethod\n",
        "    def get_instance_count(cls):\n",
        "        return cls.num_instances  # Return the instance count\n"
      ],
      "metadata": {
        "id": "LEochsBZwejj"
      },
      "execution_count": null,
      "outputs": []
    },
    {
      "cell_type": "code",
      "source": [
        "# Create some instances\n",
        "obj1 = MyClass()\n",
        "obj2 = MyClass()\n",
        "obj3 = MyClass()\n",
        "\n",
        "# Get the instance count\n",
        "print(MyClass.get_instance_count())"
      ],
      "metadata": {
        "id": "0wADheB3xy4_"
      },
      "execution_count": null,
      "outputs": []
    },
    {
      "cell_type": "markdown",
      "source": [
        "#15.Implement a static method in a class that checks if a given year is a leap year."
      ],
      "metadata": {
        "id": "Kw6hdhhrx7TS"
      }
    },
    {
      "cell_type": "markdown",
      "source": [
        "# Ans:- Here's an example implementation of a static method in a class that checks if a given year is a leap year:"
      ],
      "metadata": {
        "id": "-IleSqxSyUei"
      }
    },
    {
      "cell_type": "code",
      "source": [
        "class DateUtils:\n",
        "    @staticmethod\n",
        "    def is_leap_year(year):\n",
        "        \"\"\"\n",
        "        Checks if a given year is a leap year.\n",
        "\n",
        "        Args:\n",
        "            year (int): The year to check.\n",
        "\n",
        "        Returns:\n",
        "            bool: True if the year is a leap year, False otherwise.\n",
        "        \"\"\"\n",
        "        return year % 4 == 0 and (year % 100 != 0 or year % 400 == 0)"
      ],
      "metadata": {
        "id": "EzNA0CC1x4cK"
      },
      "execution_count": null,
      "outputs": []
    },
    {
      "cell_type": "code",
      "source": [
        "print(DateUtils.is_leap_year(2020))\n",
        "print(DateUtils.is_leap_year(2019))"
      ],
      "metadata": {
        "id": "rE9LzYUwycZW"
      },
      "execution_count": null,
      "outputs": []
    },
    {
      "cell_type": "code",
      "source": [],
      "metadata": {
        "id": "gN1XvHeOyiBT"
      },
      "execution_count": null,
      "outputs": []
    }
  ]
}